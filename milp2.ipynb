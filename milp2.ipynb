{
 "cells": [
  {
   "cell_type": "code",
   "execution_count": 1,
   "id": "8e741ab9",
   "metadata": {},
   "outputs": [],
   "source": [
    "from keras.models import load_model\n",
    "import numpy as np\n",
    "model = load_model('candidateBC_1.h5')"
   ]
  },
  {
   "cell_type": "code",
   "execution_count": 2,
   "id": "5d350825",
   "metadata": {},
   "outputs": [],
   "source": [
    "W1 = model.layers[0].get_weights()[0]\n",
    "b1 = model.layers[0].get_weights()[1]\n",
    "#print(weights,biases)\n",
    "W2 = model.layers[1].get_weights()[0]\n",
    "b2 = model.layers[1].get_weights()[1]\n",
    "W3 = model.layers[2].get_weights()[0]\n",
    "b3 = model.layers[2].get_weights()[1]\n",
    "W3_temp=np.transpose(W3)"
   ]
  },
  {
   "cell_type": "code",
   "execution_count": null,
   "id": "368bebfe",
   "metadata": {},
   "outputs": [],
   "source": []
  },
  {
   "cell_type": "code",
   "execution_count": null,
   "id": "5f0e23d9",
   "metadata": {},
   "outputs": [],
   "source": []
  },
  {
   "cell_type": "code",
   "execution_count": 3,
   "id": "c30c2abb",
   "metadata": {},
   "outputs": [],
   "source": [
    "n=10"
   ]
  },
  {
   "cell_type": "code",
   "execution_count": 4,
   "id": "5e2e3d07",
   "metadata": {},
   "outputs": [],
   "source": [
    "import gurobipy as gp\n",
    "import scipy"
   ]
  },
  {
   "cell_type": "markdown",
   "id": "db04f98c",
   "metadata": {},
   "source": [
    "Define the bounds on state variables. \n",
    "This will be the Admissible region. Safety constraints will be explicitly enforced later"
   ]
  },
  {
   "cell_type": "code",
   "execution_count": 5,
   "id": "f75b59a5",
   "metadata": {},
   "outputs": [],
   "source": [
    "#Admissible Region\n",
    "\n",
    "#lb=[-1,-1,-1,-1,0.4644,-1,-1,-1,-1,-1]\n",
    "#ub=[1,1,1,1,0.4944,1,1,1,1,1]\n",
    "\n",
    "lb=[0.646,-1e-3,0.646,-1e-3,0.35,-1e-3,0.646,-1e-3,0.3,-1e-3]\n",
    "ub=[0.714,1e-3,0.714,1e-3,0.65,1e-3,0.714,1e-3,0.6,1e-3]"
   ]
  },
  {
   "cell_type": "code",
   "execution_count": 6,
   "id": "cfdb1015",
   "metadata": {},
   "outputs": [
    {
     "name": "stdout",
     "output_type": "stream",
     "text": [
      "Set parameter Username\n",
      "\n",
      "--------------------------------------------\n",
      "Warning: your license will expire in 12 days\n",
      "--------------------------------------------\n",
      "\n",
      "Academic license - for non-commercial use only - expires 2022-04-10\n"
     ]
    }
   ],
   "source": [
    "m=gp.Model('safe')"
   ]
  },
  {
   "cell_type": "code",
   "execution_count": 7,
   "id": "d97a9c79",
   "metadata": {},
   "outputs": [],
   "source": [
    "#Create decision variables corresponding to the states\n",
    "\n",
    "x=m.addMVar(n,name='state',vtype=gp.GRB.CONTINUOUS,lb=lb,ub=ub)"
   ]
  },
  {
   "cell_type": "code",
   "execution_count": 8,
   "id": "74b27ae7",
   "metadata": {},
   "outputs": [],
   "source": [
    "# Enforcing  safe/unsafe region constraints\n",
    "# initial states: 0.4644 <= vod <= 0.4944\n",
    "# Unsafe region: 0.4944<= vod <= 0.65 or 0.35<= vod <= 0.4644\n",
    "# for unsafe region 2 separate optimization problems\n",
    "\n",
    "safe_region_constr_ub=m.addConstr(x[4]>=0.4644,\"saferegion1\")\n",
    "safe_region_constr_lb=m.addConstr(x[4]<=0.4944,\"saferegion2\")\n",
    "\n",
    "#Unsafe Region #1 \n",
    "#unsafe_region_constr_ub=m.addConstr(x[4]>=0.4944,\"unsaferegion1\")\n",
    "#unsafe_region_constr_lb=m.addConstr(x[4]<=0.65,\"unsaferegion2\")\n",
    "\n",
    "#Unsafe Region#2\n",
    "#unsafe_region_constr_ub=m.addConstr(x[4]>=0.35,\"unsaferegion1\")\n",
    "#unsafe_region_constr_lb=m.addConstr(x[4]<=0.4644,\"unsaferegion2\")"
   ]
  },
  {
   "cell_type": "code",
   "execution_count": 9,
   "id": "f3180432",
   "metadata": {},
   "outputs": [],
   "source": [
    "## Big-M bounds \n",
    "lk=-1e4\n",
    "uk=1e4"
   ]
  },
  {
   "cell_type": "code",
   "execution_count": 10,
   "id": "26a89f85",
   "metadata": {},
   "outputs": [],
   "source": [
    "## Relu constraints Unrolled for each hidden layer\n",
    "\n",
    "#Hidden layer temp variable\n",
    "Z1=m.addMVar(n,vtype=gp.GRB.CONTINUOUS,name='z1')\n",
    "\n",
    "#Z1=W1^T*x + b1\n",
    "z_value_constr=m.addConstr(Z1==np.transpose(W1) @ x +b1,'Z1Value')\n",
    "\n",
    "#Binary indicator variable\n",
    "t1=m.addMVar(n,vtype=gp.GRB.BINARY, name=\"t1\")\n",
    "\n",
    "#Output of hidden layer 1 i.e. x1=ReLU(Z1)\n",
    "x1=m.addMVar(n,vtype=gp.GRB.CONTINUOUS,name='x1')\n",
    "\n",
    "### RElU constraints same as defined in SynthBC paper\n",
    "relu_constr_1a=m.addConstr(x1-Z1+lk<=lk*t1,'relu_cons_1a')\n",
    "relu_constr_1b=m.addConstr(Z1-x1 <= 0,'relu_cons_1b')\n",
    "relu_constr_1c=m.addConstr(x1-uk*t1 <= 0,'relu_cons_1c')\n",
    "relu_constr_1d=m.addConstr(x1 >= 0,'relu_cons_1d')\n",
    "\n",
    "#2nd Hidden layer\n",
    "\n",
    "#Hidden layer temp variables\n",
    "Z2=m.addMVar(n,vtype=gp.GRB.CONTINUOUS,name='z2')\n",
    "\n",
    "#Binary indicator variables\n",
    "t2=m.addMVar(n,vtype=gp.GRB.BINARY, name=\"t2\")\n",
    "\n",
    "#Z2=W2^T*x1+b2\n",
    "z_value_constr2=m.addConstr(Z2==np.transpose(W2) @ x1 +b2,'Z2Value')\n",
    "\n",
    "#Output of hidden layer 2 i.e. x2=ReLU(Z2)\n",
    "x2=m.addMVar(n,vtype=gp.GRB.CONTINUOUS,name='x2')\n",
    "\n",
    "#ReLU constraints\n",
    "relu_constr_2a=m.addConstr(x2-Z2+lk<=lk*t2,'relu_cons_2a')\n",
    "relu_constr_2b=m.addConstr(Z2-x2 <= 0,'relu_cons_2b')\n",
    "relu_constr_2c=m.addConstr(x2-uk*t2 <= 0,'relu_cons_2c')\n",
    "relu_constr_2d=m.addConstr(x2 >= 0,'relu_cons_2d')\n",
    "\n",
    "\n",
    "##Output layer: X3=W3^T*x2+b3\n",
    "x3=m.addMVar(1,vtype=gp.GRB.CONTINUOUS,name='x3')\n",
    "x3_constraint=m.addConstr(x3==W3_temp@x2+b3,'x3_val')\n",
    "\n"
   ]
  },
  {
   "cell_type": "code",
   "execution_count": 1,
   "id": "db466e28",
   "metadata": {},
   "outputs": [
    {
     "data": {
      "text/plain": [
       "'\\ndef f(x):\\n    x1,x2,x3,x4,x5,x6,x7,x8,x9,x10=x\\n    p_star=1\\n    q_star=1e-6\\n    w=60\\n    rn=1e3\\n    rc=0.0384\\n    cf=2500\\n    rf=2e-3\\n    lf=100e-6\\n    irefd=2.08\\n    irefq=1e-6\\n    kp=0.5\\n    vbd=0.48\\n    vbq=1e-6\\n    f1=[]\\n    f1.append(-p_star*x1+w*x2+vbd)\\n    f1.append(-p_star*x2-w*x1+vbq)\\n    f1.append(-rc*x3+w*x4+x5-vbd)\\n    f1.append((-rc*x4-w*x3+x6-vbq))\\n    f1.append((w*x6+(x7-x3)/cf))\\n    f1.append(-w*x5+(x8-x4)/cf)\\n    f1.append(-(rf/lf)*x7+w*x8+(x9-x5)/lf)\\n    f1.append(-(rf/lf)*x8-w*x7+(x10-x6)/lf);\\n    f1.append(-w*x8+kp*(irefd-x7))\\n    f1.append(-w*x7+kp*(irefq-x8))\\n    return f1\\n'"
      ]
     },
     "execution_count": 1,
     "metadata": {},
     "output_type": "execute_result"
    }
   ],
   "source": [
    "'''\n",
    "def f(x):\n",
    "    x1,x2,x3,x4,x5,x6,x7,x8,x9,x10=x\n",
    "    p_star=1\n",
    "    q_star=1e-6\n",
    "    w=60\n",
    "    rn=1e3\n",
    "    rc=0.0384\n",
    "    cf=2500\n",
    "    rf=2e-3\n",
    "    lf=100e-6\n",
    "    irefd=2.08\n",
    "    irefq=1e-6\n",
    "    kp=0.5\n",
    "    vbd=0.48\n",
    "    vbq=1e-6\n",
    "    f1=[]\n",
    "    f1.append(-p_star*x1+w*x2+vbd)\n",
    "    f1.append(-p_star*x2-w*x1+vbq)\n",
    "    f1.append(-rc*x3+w*x4+x5-vbd)\n",
    "    f1.append((-rc*x4-w*x3+x6-vbq))\n",
    "    f1.append((w*x6+(x7-x3)/cf))\n",
    "    f1.append(-w*x5+(x8-x4)/cf)\n",
    "    f1.append(-(rf/lf)*x7+w*x8+(x9-x5)/lf)\n",
    "    f1.append(-(rf/lf)*x8-w*x7+(x10-x6)/lf);\n",
    "    f1.append(-w*x8+kp*(irefd-x7))\n",
    "    f1.append(-w*x7+kp*(irefq-x8))\n",
    "    return f1\n",
    "'''"
   ]
  },
  {
   "cell_type": "code",
   "execution_count": 11,
   "id": "ebc453ee",
   "metadata": {},
   "outputs": [],
   "source": [
    "#Derivative Condition constraints\n",
    "#v=m.addMVar(10,name='V')\n",
    "#x3_constraint=m.addConstr(W3_temp@x2+b3==0,'x3_val')\n",
    "#v_constr=m.addConstr(v==np.multiply(W3,np.multiply(t2@W2,t1@W1)),'v_val')\n"
   ]
  },
  {
   "cell_type": "code",
   "execution_count": 12,
   "id": "125fd222",
   "metadata": {},
   "outputs": [],
   "source": [
    "## Set objective for Gurobi: \n",
    "#For initial states x3 should be -ve. Obj: p* =max(x3). if p* < 0 then BaC satisifies initial states condition\n",
    "#For unsafe states x3 should be +ve. Obj: p*=min(x3). if p* > 0 then BaC satisfies unsafe region condition\n",
    "m.setObjective(x3, gp.GRB.MAXIMIZE)\n",
    "#m.setObjective(x3,gp.GRB.MINIMIZE)\n",
    "\n",
    "\n",
    "#m.setObjective(v@f(x),gp.GRB.MAXIMIZE)"
   ]
  },
  {
   "cell_type": "code",
   "execution_count": 13,
   "id": "1f9cca27",
   "metadata": {},
   "outputs": [],
   "source": [
    "# Save the model\n",
    "m.write(\"grb.lp\")"
   ]
  },
  {
   "cell_type": "code",
   "execution_count": 14,
   "id": "e46ada61",
   "metadata": {},
   "outputs": [
    {
     "name": "stdout",
     "output_type": "stream",
     "text": [
      "Gurobi Optimizer version 9.5.0 build v9.5.0rc5 (win64)\n",
      "Thread count: 4 physical cores, 4 logical processors, using up to 4 threads\n",
      "Optimize a model with 103 rows, 71 columns and 393 nonzeros\n",
      "Model fingerprint: 0xaec2fd05\n",
      "Variable types: 51 continuous, 20 integer (20 binary)\n",
      "Coefficient statistics:\n",
      "  Matrix range     [1e-04, 1e+04]\n",
      "  Objective range  [1e+00, 1e+00]\n",
      "  Bounds range     [1e-03, 1e+00]\n",
      "  RHS range        [2e-02, 1e+04]\n",
      "Presolve removed 20 rows and 0 columns\n",
      "Presolve time: 0.00s\n",
      "\n",
      "Explored 0 nodes (0 simplex iterations) in 0.01 seconds (0.00 work units)\n",
      "Thread count was 1 (of 4 available processors)\n",
      "\n",
      "Solution count 0\n",
      "\n",
      "Model is infeasible or unbounded\n",
      "Best objective -, best bound -, gap -\n"
     ]
    }
   ],
   "source": [
    "# Call optimizer\n",
    "m.optimize()"
   ]
  },
  {
   "cell_type": "code",
   "execution_count": null,
   "id": "21dcfa4e",
   "metadata": {},
   "outputs": [],
   "source": [
    "\n",
    "m.computeIIS()\n",
    "m.write('grp.ilp')"
   ]
  },
  {
   "cell_type": "code",
   "execution_count": null,
   "id": "1f39a647",
   "metadata": {},
   "outputs": [],
   "source": []
  },
  {
   "cell_type": "code",
   "execution_count": null,
   "id": "7700fab3",
   "metadata": {},
   "outputs": [],
   "source": []
  },
  {
   "cell_type": "markdown",
   "id": "d5c8b01b",
   "metadata": {},
   "source": [
    "Following block of code, computes the IIS(Irreducible Inconsistent Subsystem)\n",
    "An IIS is a subset of the constraints and variable bounds with the following properties:\n",
    "\n",
    "It is still infeasible, and\n",
    "If a single constraint or bound is removed, the subsystem becomes feasible.\n",
    "\n",
    "if optimization problem is infeasible\n",
    "    \n",
    "    \n",
    "    1. Compute IIS\n",
    "    2. Remove one of the IIS constraints except safe/unsafe state constraints\n",
    "    3. Keep track of removed Constraint\n",
    "    4. Save the model\n",
    "    5. Optimize the model"
   ]
  },
  {
   "cell_type": "code",
   "execution_count": null,
   "id": "0618be20",
   "metadata": {},
   "outputs": [],
   "source": [
    "removed=[]\n",
    "while m.Status!=2:\n",
    "    m.computeIIS()\n",
    "    for c in m.getConstrs():\n",
    "         if c.IISConstr and c.ConstrName.find('saferegion1')==-1 and c.ConstrName.find('saferegion2')==-1:\n",
    "            print('%s' % c.ConstrName)\n",
    "            removed.append(c.ConstrName)\n",
    "            m.remove(c)\n",
    "            \n",
    "            break\n",
    "    m.write('updated_model.lp')\n",
    "    m.optimize()"
   ]
  },
  {
   "cell_type": "code",
   "execution_count": null,
   "id": "1ee8a84c",
   "metadata": {
    "scrolled": true
   },
   "outputs": [],
   "source": []
  },
  {
   "cell_type": "code",
   "execution_count": null,
   "id": "139da087",
   "metadata": {},
   "outputs": [],
   "source": [
    "#m.x[0:10] gives states corresponding to p*.\n",
    "\n",
    "model.predict([m.x[0:10]])"
   ]
  },
  {
   "cell_type": "code",
   "execution_count": null,
   "id": "260f01d8",
   "metadata": {},
   "outputs": [],
   "source": []
  },
  {
   "cell_type": "code",
   "execution_count": null,
   "id": "764a72a0",
   "metadata": {},
   "outputs": [],
   "source": [
    "m.x[0:10]"
   ]
  },
  {
   "cell_type": "code",
   "execution_count": null,
   "id": "0e86ff68",
   "metadata": {},
   "outputs": [],
   "source": [
    "removed"
   ]
  },
  {
   "cell_type": "code",
   "execution_count": null,
   "id": "3ecc9a36",
   "metadata": {},
   "outputs": [],
   "source": [
    "#This relaxes the constraints, adds the cost of relaxation as an objective.Generates a different optimization problem\n",
    "m.feasRelaxS(1, False, False, True)"
   ]
  },
  {
   "cell_type": "code",
   "execution_count": null,
   "id": "5ba3727b",
   "metadata": {},
   "outputs": [],
   "source": []
  },
  {
   "cell_type": "code",
   "execution_count": null,
   "id": "a21fe5b7",
   "metadata": {},
   "outputs": [],
   "source": []
  },
  {
   "cell_type": "code",
   "execution_count": null,
   "id": "4f853d0c",
   "metadata": {},
   "outputs": [],
   "source": []
  },
  {
   "cell_type": "code",
   "execution_count": null,
   "id": "9cd290d9",
   "metadata": {},
   "outputs": [],
   "source": []
  },
  {
   "cell_type": "code",
   "execution_count": null,
   "id": "47524578",
   "metadata": {},
   "outputs": [],
   "source": []
  },
  {
   "cell_type": "code",
   "execution_count": null,
   "id": "87e0b8fa",
   "metadata": {},
   "outputs": [],
   "source": []
  }
 ],
 "metadata": {
  "kernelspec": {
   "display_name": "Python 3 (ipykernel)",
   "language": "python",
   "name": "python3"
  },
  "language_info": {
   "codemirror_mode": {
    "name": "ipython",
    "version": 3
   },
   "file_extension": ".py",
   "mimetype": "text/x-python",
   "name": "python",
   "nbconvert_exporter": "python",
   "pygments_lexer": "ipython3",
   "version": "3.10.0"
  }
 },
 "nbformat": 4,
 "nbformat_minor": 5
}
